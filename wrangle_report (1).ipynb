{
 "cells": [
  {
   "cell_type": "markdown",
   "metadata": {},
   "source": [
    "## Reporting: wragle_report"
   ]
  },
  {
   "cell_type": "markdown",
   "metadata": {},
   "source": [
    "#### In my analysis I had 3 datasets i.e(Twitter_archive_enhanced.csv, Image_predictions.tsv, tweet_json. txt. Twitter_archive_enhanced.csv has 2356 rows and 17 columns. Of the 17 columns only 6 columns contain null values. In_reply_to_status_id and in_reply_to_user_id contain 2278 null values of the 2356 entries. Retweeted_status_id,retweeted_status_user_id and retweeted_status_timestamp  have 2175 null values. Expanded_urls column contains 59 null values. These 6 columns are going to be dropped during analysis since they are not required for analysis.\n",
    "\n",
    "\n",
    "#### For the rating denominator The most values are 10 which are 2333 and for the rating numerator most values are 12 which are 558 followed by 11 which has 464 entries.\n",
    "\n",
    "#### The Image_predictions dataset has 2075 rows and 12 columns. Some tweets are not dogs tweets i.e for p1,p2 and p3 =False. The img_num column shows the number of images, which range from 1- 4 images.\n",
    "\n",
    "#### For tweet_json .txt dataset has 2354 rows and 3 columns. With no null values.\n",
    "     \n",
    "   "
   ]
  },
  {
   "cell_type": "markdown",
   "metadata": {},
   "source": [
    "#### In the dataset there are data quality issues and tidiness issues which need to be cleaned. There are datatypes which are erroneous such as timestamp which should be in datetime datatype and tweet id which should be a string datatype.\n",
    "\n",
    "#### Some columns are not needed for the analysis so they are going to be dropped. The columns to be dropped are: expanded_urls, p1_conf, p2_conf, p3 _conf, jpg_url and img_num\n",
    "\n",
    "#### A, an and the are given as dog names. For the names given a, an and the we convert them to none and add to the None column in the dataset.\n",
    "\n",
    "#### Some denominators are either less or more than 10. So the rows with rating denominator more  and less than 10 are going to be dropped.\n",
    "\n",
    "#### I have removed retweets and replies from the twitter_archive dataset.\n",
    "\n",
    "#### There are also inconsistencies in the entries for p1,p2 and p3 entries. For some entries there are capital letters and others have  small letters for the first letters.\n",
    "\n",
    "#### For the source column in the twitter_archive there are html tags which we are going to drop and only remain with the source name without the html tags.\n",
    "\n",
    "#### Some of the retwees are not dogs' retweets. We are dropping the rows for p1_dog, p2_dog, p3_dog which are False entries. \n",
    "\n",
    "#### For tidiness issues, the dog stages are in different columns and they are supposed to be in only one column i.e dog_stage column. Retweet_counts and Favorite counts are not in twitter_archive dataset. We merged the three datasets with Twitter id."
   ]
  },
  {
   "cell_type": "code",
   "execution_count": null,
   "metadata": {},
   "outputs": [],
   "source": []
  }
 ],
 "metadata": {
  "kernelspec": {
   "display_name": "Python 3",
   "language": "python",
   "name": "python3"
  },
  "language_info": {
   "codemirror_mode": {
    "name": "ipython",
    "version": 3
   },
   "file_extension": ".py",
   "mimetype": "text/x-python",
   "name": "python",
   "nbconvert_exporter": "python",
   "pygments_lexer": "ipython3",
   "version": "3.6.3"
  }
 },
 "nbformat": 4,
 "nbformat_minor": 2
}
